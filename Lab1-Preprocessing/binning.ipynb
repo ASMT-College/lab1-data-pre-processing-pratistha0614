{
 "cells": [
  {
   "cell_type": "code",
   "execution_count": 2,
   "id": "7c82fb75",
   "metadata": {},
   "outputs": [
    {
     "name": "stdout",
     "output_type": "stream",
     "text": [
      "Initial Data:\n",
      "    CustomerID  Age\n",
      "0           1   25\n",
      "1           2   42\n",
      "2           3   36\n",
      "3           4   53\n",
      "4           5   28\n",
      "\n",
      "Data after Binning:\n",
      "    CustomerID  Age     AgeGroup\n",
      "0           1   25        Young\n",
      "1           2   42  Middle-aged\n",
      "2           3   36  Middle-aged\n",
      "3           4   53       Senior\n",
      "4           5   28        Young\n",
      "\n",
      "Age Group Distribution:\n",
      " Middle-aged    7\n",
      "Young          5\n",
      "Senior         3\n",
      "Name: AgeGroup, dtype: int64\n"
     ]
    }
   ],
   "source": [
    "import pandas as pd\n",
    "\n",
    "# Load dataset\n",
    "df = pd.read_csv('lab1-datasets/customer_ages.csv')\n",
    "print(\"Initial Data:\\n\", df.head())\n",
    "\n",
    "# Create bins\n",
    "bins = [18, 30, 50, 100]\n",
    "labels = ['Young', 'Middle-aged', 'Senior']\n",
    "df['AgeGroup'] = pd.cut(df['Age'], bins=bins, labels=labels, right=False)\n",
    "\n",
    "print(\"\\nData after Binning:\\n\", df.head())\n",
    "\n",
    "# Analyze distribution\n",
    "age_group_counts = df['AgeGroup'].value_counts()\n",
    "print(\"\\nAge Group Distribution:\\n\", age_group_counts)\n"
   ]
  }
 ],
 "metadata": {
  "language_info": {
   "name": "python"
  }
 },
 "nbformat": 4,
 "nbformat_minor": 5
}
