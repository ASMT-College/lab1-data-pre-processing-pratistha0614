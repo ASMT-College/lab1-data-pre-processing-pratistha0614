{
 "cells": [
  {
   "cell_type": "code",
   "execution_count": 2,
   "id": "7e70210e",
   "metadata": {},
   "outputs": [
    {
     "name": "stdout",
     "output_type": "stream",
     "text": [
      "Original Scores:\n",
      "    StudentID  Math  Science  English\n",
      "0          1    78       65       80\n",
      "1          2    88       75       85\n",
      "2          3    60       50       55\n",
      "3          4    90       78       92\n",
      "4          5    55       48       58\n",
      "\n",
      "Normalized Scores:\n",
      "    StudentID      Math  Science   English\n",
      "0          1  0.657143  0.53125  0.675676\n",
      "1          2  0.942857  0.84375  0.810811\n",
      "2          3  0.142857  0.06250  0.000000\n",
      "3          4  1.000000  0.93750  1.000000\n",
      "4          5  0.000000  0.00000  0.081081\n"
     ]
    }
   ],
   "source": [
    "import pandas as pd\n",
    "from sklearn.preprocessing import MinMaxScaler\n",
    "\n",
    "# Load dataset\n",
    "df = pd.read_csv('lab1-datasets/student_scores.csv')\n",
    "print(\"Original Scores:\\n\", df.head())\n",
    "\n",
    "# Normalize using Min-Max Scaling\n",
    "scaler = MinMaxScaler()\n",
    "df[['Math', 'Science', 'English']] = scaler.fit_transform(df[['Math', 'Science', 'English']])\n",
    "\n",
    "print(\"\\nNormalized Scores:\\n\", df.head())\n"
   ]
  }
 ],
 "metadata": {
  "kernelspec": {
   "display_name": "base",
   "language": "python",
   "name": "python3"
  },
  "language_info": {
   "codemirror_mode": {
    "name": "ipython",
    "version": 3
   },
   "file_extension": ".py",
   "mimetype": "text/x-python",
   "name": "python",
   "nbconvert_exporter": "python",
   "pygments_lexer": "ipython3",
   "version": "3.9.13"
  }
 },
 "nbformat": 4,
 "nbformat_minor": 5
}
