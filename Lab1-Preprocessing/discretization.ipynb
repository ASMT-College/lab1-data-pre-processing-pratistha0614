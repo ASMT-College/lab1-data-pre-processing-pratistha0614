{
 "cells": [
  {
   "cell_type": "code",
   "execution_count": 1,
   "id": "6467c0e6",
   "metadata": {},
   "outputs": [
    {
     "name": "stdout",
     "output_type": "stream",
     "text": [
      "Initial Data:\n",
      "       Month  Sales\n",
      "0   January  15000\n",
      "1  February  18000\n",
      "2     March  12000\n",
      "3     April  30000\n",
      "4       May  22000\n",
      "\n",
      "Data after Discretization:\n",
      "       Month  Sales SalesCategory\n",
      "0   January  15000        Medium\n",
      "1  February  18000        Medium\n",
      "2     March  12000        Medium\n",
      "3     April  30000          High\n",
      "4       May  22000          High\n",
      "\n",
      "Sales Category Distribution:\n",
      " Medium    7\n",
      "High      4\n",
      "Low       1\n",
      "Name: SalesCategory, dtype: int64\n"
     ]
    }
   ],
   "source": [
    "import pandas as pd\n",
    "\n",
    "# Load dataset\n",
    "df = pd.read_csv('lab1-datasets/sales_data.csv')\n",
    "print(\"Initial Data:\\n\", df.head())\n",
    "\n",
    "# Define bins and labels\n",
    "bins = [0, 5000, 20000, float('inf')]\n",
    "labels = ['Low', 'Medium', 'High']\n",
    "df['SalesCategory'] = pd.cut(df['Sales'], bins=bins, labels=labels)\n",
    "\n",
    "print(\"\\nData after Discretization:\\n\", df.head())\n",
    "\n",
    "# Analyze distribution\n",
    "sales_distribution = df['SalesCategory'].value_counts()\n",
    "print(\"\\nSales Category Distribution:\\n\", sales_distribution)\n"
   ]
  }
 ],
 "metadata": {
  "kernelspec": {
   "display_name": "base",
   "language": "python",
   "name": "python3"
  },
  "language_info": {
   "codemirror_mode": {
    "name": "ipython",
    "version": 3
   },
   "file_extension": ".py",
   "mimetype": "text/x-python",
   "name": "python",
   "nbconvert_exporter": "python",
   "pygments_lexer": "ipython3",
   "version": "3.9.13"
  }
 },
 "nbformat": 4,
 "nbformat_minor": 5
}
