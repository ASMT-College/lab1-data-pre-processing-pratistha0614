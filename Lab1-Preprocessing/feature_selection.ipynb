{
 "cells": [
  {
   "cell_type": "code",
   "execution_count": 1,
   "id": "d212b673",
   "metadata": {},
   "outputs": [
    {
     "name": "stdout",
     "output_type": "stream",
     "text": [
      "Initial Data:\n",
      "    PatientID  Age  BloodPressure  Cholesterol  Glucose  HeartRate  Disease\n",
      "0          1   45            130          180       95         70        1\n",
      "1          2   50            140          200      105         75        1\n",
      "2          3   60            150          240      120         80        1\n",
      "3          4   40            120          170       90         65        0\n",
      "4          5   35            110          160       85         60        0\n",
      "\n",
      "Top 3 Features for Predicting Disease:\n",
      " Index(['Age', 'Cholesterol', 'Glucose'], dtype='object')\n"
     ]
    }
   ],
   "source": [
    "import pandas as pd\n",
    "from sklearn.feature_selection import SelectKBest, chi2\n",
    "\n",
    "# Load dataset\n",
    "df = pd.read_csv('lab1-datasets/medical_data.csv')\n",
    "print(\"Initial Data:\\n\", df.head())\n",
    "\n",
    "# Define features (drop ID)\n",
    "X = df.drop(columns=['Disease', 'PatientID'])\n",
    "y = df['Disease']\n",
    "\n",
    "# Apply Chi-square feature selection\n",
    "selector = SelectKBest(score_func=chi2, k=3)\n",
    "selector.fit(X, y)\n",
    "\n",
    "# Display top 3 features\n",
    "top_features = X.columns[selector.get_support()]\n",
    "print(\"\\nTop 3 Features for Predicting Disease:\\n\", top_features)\n"
   ]
  }
 ],
 "metadata": {
  "kernelspec": {
   "display_name": "base",
   "language": "python",
   "name": "python3"
  },
  "language_info": {
   "codemirror_mode": {
    "name": "ipython",
    "version": 3
   },
   "file_extension": ".py",
   "mimetype": "text/x-python",
   "name": "python",
   "nbconvert_exporter": "python",
   "pygments_lexer": "ipython3",
   "version": "3.9.13"
  }
 },
 "nbformat": 4,
 "nbformat_minor": 5
}
