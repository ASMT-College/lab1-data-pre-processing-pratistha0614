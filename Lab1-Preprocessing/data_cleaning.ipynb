{
 "cells": [
  {
   "cell_type": "code",
   "execution_count": 4,
   "id": "43d9873d",
   "metadata": {},
   "outputs": [
    {
     "name": "stdout",
     "output_type": "stream",
     "text": [
      "Initial Data:\n",
      "     ID     Name   Age       Department   Salary\n",
      "0    1     John  28.0               HR  50000.0\n",
      "1    2     Jane  35.0          Finance  60000.0\n",
      "2    3    Emily   NaN               HR  55000.0\n",
      "3    4  Michael  40.0  Human Resources      NaN\n",
      "4    5    Sarah  29.0               IT  52000.0\n",
      "5    6    David  50.0          Finance  75000.0\n",
      "6    7    Laura  38.0             H.R.  68000.0\n",
      "7    8   Robert  32.0               HR  57000.0\n",
      "8    9    Linda  45.0               IT  62000.0\n",
      "9   10    James  30.0               HR  51000.0\n",
      "10  11    James  30.0               HR  51000.0\n",
      "\n",
      "Cleaned Data:\n",
      "     ID     Name   Age Department   Salary\n",
      "0    1     John  28.0         HR  50000.0\n",
      "1    2     Jane  35.0    Finance  60000.0\n",
      "2    3    Emily  35.7         HR  55000.0\n",
      "3    4  Michael  40.0         HR  58100.0\n",
      "4    5    Sarah  29.0         IT  52000.0\n",
      "5    6    David  50.0    Finance  75000.0\n",
      "6    7    Laura  38.0         HR  68000.0\n",
      "7    8   Robert  32.0         HR  57000.0\n",
      "8    9    Linda  45.0         IT  62000.0\n",
      "9   10    James  30.0         HR  51000.0\n",
      "10  11    James  30.0         HR  51000.0\n"
     ]
    }
   ],
   "source": [
    "import pandas as pd\n",
    "\n",
    "# Load the dataset (make sure the path is correct)\n",
    "df = pd.read_csv('lab1-datasets/employee_data.csv')\n",
    "print(\"Initial Data:\\n\", df)\n",
    "\n",
    "# Fill missing values\n",
    "df['Age'].fillna(df['Age'].mean(), inplace=True)\n",
    "df['Salary'].fillna(df['Salary'].mean(), inplace=True)\n",
    "\n",
    "# Standardize department names\n",
    "df['Department'] = df['Department'].replace({\n",
    "    'Human Resources': 'HR',\n",
    "    'H.R.': 'HR',\n",
    "    'hr': 'HR'\n",
    "})\n",
    "\n",
    "# Remove duplicates\n",
    "df.drop_duplicates(subset='ID', keep='first', inplace=True)\n",
    "print(\"\\nCleaned Data:\\n\", df)\n"
   ]
  }
 ],
 "metadata": {
  "kernelspec": {
   "display_name": "base",
   "language": "python",
   "name": "python3"
  },
  "language_info": {
   "codemirror_mode": {
    "name": "ipython",
    "version": 3
   },
   "file_extension": ".py",
   "mimetype": "text/x-python",
   "name": "python",
   "nbconvert_exporter": "python",
   "pygments_lexer": "ipython3",
   "version": "3.9.13"
  }
 },
 "nbformat": 4,
 "nbformat_minor": 5
}
